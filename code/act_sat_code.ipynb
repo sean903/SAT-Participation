{
 "cells": [
  {
   "cell_type": "markdown",
   "metadata": {},
   "source": [
    "# SAT & ACT Analysis"
   ]
  },
  {
   "cell_type": "code",
   "execution_count": 49,
   "metadata": {},
   "outputs": [],
   "source": [
    "import pandas as pd\n",
    "import numpy as np\n",
    "import matplotlib.pyplot as plt\n",
    "import seaborn as sns"
   ]
  },
  {
   "cell_type": "markdown",
   "metadata": {},
   "source": [
    "## 2017 Data Import and Cleaning"
   ]
  },
  {
   "cell_type": "markdown",
   "metadata": {},
   "source": [
    "#### Read In SAT & ACT  Data\n"
   ]
  },
  {
   "cell_type": "code",
   "execution_count": 50,
   "metadata": {},
   "outputs": [],
   "source": [
    "act_17 = pd.read_csv(\"../data/act_2017.csv\")\n",
    "act_18 = pd.read_csv(\"../data/act_2018.csv\")\n",
    "act_19 = pd.read_csv(\"../data/act_2019.csv\")"
   ]
  },
  {
   "cell_type": "code",
   "execution_count": 51,
   "metadata": {},
   "outputs": [],
   "source": [
    "sat_17 = pd.read_csv(\"../data/sat_2017.csv\")\n",
    "sat_18 = pd.read_csv(\"../data/sat_2018.csv\")\n",
    "sat_19 = pd.read_csv(\"../data/sat_2019.csv\")"
   ]
  },
  {
   "cell_type": "markdown",
   "metadata": {},
   "source": [
    "#### Preview and inspect the data\n"
   ]
  },
  {
   "cell_type": "code",
   "execution_count": 52,
   "metadata": {},
   "outputs": [
    {
     "data": {
      "text/html": [
       "<div>\n",
       "<style scoped>\n",
       "    .dataframe tbody tr th:only-of-type {\n",
       "        vertical-align: middle;\n",
       "    }\n",
       "\n",
       "    .dataframe tbody tr th {\n",
       "        vertical-align: top;\n",
       "    }\n",
       "\n",
       "    .dataframe thead th {\n",
       "        text-align: right;\n",
       "    }\n",
       "</style>\n",
       "<table border=\"1\" class=\"dataframe\">\n",
       "  <thead>\n",
       "    <tr style=\"text-align: right;\">\n",
       "      <th></th>\n",
       "      <th>State</th>\n",
       "      <th>Participation</th>\n",
       "      <th>English</th>\n",
       "      <th>Math</th>\n",
       "      <th>Reading</th>\n",
       "      <th>Science</th>\n",
       "      <th>Composite</th>\n",
       "    </tr>\n",
       "  </thead>\n",
       "  <tbody>\n",
       "    <tr>\n",
       "      <th>0</th>\n",
       "      <td>National</td>\n",
       "      <td>60%</td>\n",
       "      <td>20.3</td>\n",
       "      <td>20.7</td>\n",
       "      <td>21.4</td>\n",
       "      <td>21.0</td>\n",
       "      <td>21.0</td>\n",
       "    </tr>\n",
       "    <tr>\n",
       "      <th>1</th>\n",
       "      <td>Alabama</td>\n",
       "      <td>100%</td>\n",
       "      <td>18.9</td>\n",
       "      <td>18.4</td>\n",
       "      <td>19.7</td>\n",
       "      <td>19.4</td>\n",
       "      <td>19.2</td>\n",
       "    </tr>\n",
       "    <tr>\n",
       "      <th>2</th>\n",
       "      <td>Alaska</td>\n",
       "      <td>65%</td>\n",
       "      <td>18.7</td>\n",
       "      <td>19.8</td>\n",
       "      <td>20.4</td>\n",
       "      <td>19.9</td>\n",
       "      <td>19.8</td>\n",
       "    </tr>\n",
       "    <tr>\n",
       "      <th>3</th>\n",
       "      <td>Arizona</td>\n",
       "      <td>62%</td>\n",
       "      <td>18.6</td>\n",
       "      <td>19.8</td>\n",
       "      <td>20.1</td>\n",
       "      <td>19.8</td>\n",
       "      <td>19.7</td>\n",
       "    </tr>\n",
       "    <tr>\n",
       "      <th>4</th>\n",
       "      <td>Arkansas</td>\n",
       "      <td>100%</td>\n",
       "      <td>18.9</td>\n",
       "      <td>19.0</td>\n",
       "      <td>19.7</td>\n",
       "      <td>19.5</td>\n",
       "      <td>19.4</td>\n",
       "    </tr>\n",
       "  </tbody>\n",
       "</table>\n",
       "</div>"
      ],
      "text/plain": [
       "      State Participation  English  Math  Reading  Science  Composite\n",
       "0  National           60%     20.3  20.7     21.4     21.0       21.0\n",
       "1   Alabama          100%     18.9  18.4     19.7     19.4       19.2\n",
       "2    Alaska           65%     18.7  19.8     20.4     19.9       19.8\n",
       "3   Arizona           62%     18.6  19.8     20.1     19.8       19.7\n",
       "4  Arkansas          100%     18.9  19.0     19.7     19.5       19.4"
      ]
     },
     "execution_count": 52,
     "metadata": {},
     "output_type": "execute_result"
    }
   ],
   "source": [
    "act_17.head(5)"
   ]
  },
  {
   "cell_type": "code",
   "execution_count": 53,
   "metadata": {},
   "outputs": [
    {
     "data": {
      "text/html": [
       "<div>\n",
       "<style scoped>\n",
       "    .dataframe tbody tr th:only-of-type {\n",
       "        vertical-align: middle;\n",
       "    }\n",
       "\n",
       "    .dataframe tbody tr th {\n",
       "        vertical-align: top;\n",
       "    }\n",
       "\n",
       "    .dataframe thead th {\n",
       "        text-align: right;\n",
       "    }\n",
       "</style>\n",
       "<table border=\"1\" class=\"dataframe\">\n",
       "  <thead>\n",
       "    <tr style=\"text-align: right;\">\n",
       "      <th></th>\n",
       "      <th>State</th>\n",
       "      <th>Participation</th>\n",
       "      <th>Evidence-Based Reading and Writing</th>\n",
       "      <th>Math</th>\n",
       "      <th>Total</th>\n",
       "    </tr>\n",
       "  </thead>\n",
       "  <tbody>\n",
       "    <tr>\n",
       "      <th>0</th>\n",
       "      <td>Alabama</td>\n",
       "      <td>5%</td>\n",
       "      <td>593</td>\n",
       "      <td>572</td>\n",
       "      <td>1165</td>\n",
       "    </tr>\n",
       "    <tr>\n",
       "      <th>1</th>\n",
       "      <td>Alaska</td>\n",
       "      <td>38%</td>\n",
       "      <td>547</td>\n",
       "      <td>533</td>\n",
       "      <td>1080</td>\n",
       "    </tr>\n",
       "    <tr>\n",
       "      <th>2</th>\n",
       "      <td>Arizona</td>\n",
       "      <td>30%</td>\n",
       "      <td>563</td>\n",
       "      <td>553</td>\n",
       "      <td>1116</td>\n",
       "    </tr>\n",
       "    <tr>\n",
       "      <th>3</th>\n",
       "      <td>Arkansas</td>\n",
       "      <td>3%</td>\n",
       "      <td>614</td>\n",
       "      <td>594</td>\n",
       "      <td>1208</td>\n",
       "    </tr>\n",
       "    <tr>\n",
       "      <th>4</th>\n",
       "      <td>California</td>\n",
       "      <td>53%</td>\n",
       "      <td>531</td>\n",
       "      <td>524</td>\n",
       "      <td>1055</td>\n",
       "    </tr>\n",
       "  </tbody>\n",
       "</table>\n",
       "</div>"
      ],
      "text/plain": [
       "        State Participation  Evidence-Based Reading and Writing  Math  Total\n",
       "0     Alabama            5%                                 593   572   1165\n",
       "1      Alaska           38%                                 547   533   1080\n",
       "2     Arizona           30%                                 563   553   1116\n",
       "3    Arkansas            3%                                 614   594   1208\n",
       "4  California           53%                                 531   524   1055"
      ]
     },
     "execution_count": 53,
     "metadata": {},
     "output_type": "execute_result"
    }
   ],
   "source": [
    "sat_17.head(5)"
   ]
  },
  {
   "cell_type": "markdown",
   "metadata": {},
   "source": [
    "#### 3. Look for errors in the data\n"
   ]
  },
  {
   "cell_type": "code",
   "execution_count": 54,
   "metadata": {},
   "outputs": [
    {
     "name": "stdout",
     "output_type": "stream",
     "text": [
      "<class 'pandas.core.frame.DataFrame'>\n",
      "RangeIndex: 51 entries, 0 to 50\n",
      "Data columns (total 5 columns):\n",
      " #   Column                               Non-Null Count  Dtype \n",
      "---  ------                               --------------  ----- \n",
      " 0   State                                51 non-null     object\n",
      " 1   Participation                        51 non-null     object\n",
      " 2    Evidence-Based Reading and Writing  51 non-null     int64 \n",
      " 3    Math                                51 non-null     int64 \n",
      " 4    Total                               51 non-null     int64 \n",
      "dtypes: int64(3), object(2)\n",
      "memory usage: 2.1+ KB\n"
     ]
    }
   ],
   "source": [
    "sat_18.info()"
   ]
  },
  {
   "cell_type": "markdown",
   "metadata": {},
   "source": [
    "#### Analyse ACT 17 first"
   ]
  },
  {
   "cell_type": "code",
   "execution_count": 55,
   "metadata": {},
   "outputs": [],
   "source": [
    "act_17['Participation'] = act_17['Participation'].str.rstrip('%').astype('float') \n",
    "# act_18['s_participation_18 '] = act_18['Participation'].str.rstrip('%').astype('float') \n",
    "# act_19['Participation'] = act_19['Participation'].str.rstrip('%').astype('float') \n",
    "\n",
    "sat_17['Participation'] = sat_17['Participation'].str.rstrip('%').astype('float') \n",
    "# sat_18['Participation'] = sat_18['Participation'].str.rstrip('%').astype('float') \n",
    "# sat_19['Participation'] = sat_19['Participation Rate'].str.rstrip('%').astype('float')\n",
    "\n",
    "# act_2017 composite was a string due "
   ]
  },
  {
   "cell_type": "code",
   "execution_count": 56,
   "metadata": {},
   "outputs": [
    {
     "name": "stdout",
     "output_type": "stream",
     "text": [
      "<class 'pandas.core.frame.DataFrame'>\n",
      "RangeIndex: 51 entries, 0 to 50\n",
      "Data columns (total 5 columns):\n",
      " #   Column                              Non-Null Count  Dtype  \n",
      "---  ------                              --------------  -----  \n",
      " 0   State                               51 non-null     object \n",
      " 1   Participation                       51 non-null     float64\n",
      " 2   Evidence-Based Reading and Writing  51 non-null     int64  \n",
      " 3   Math                                51 non-null     int64  \n",
      " 4   Total                               51 non-null     int64  \n",
      "dtypes: float64(1), int64(3), object(1)\n",
      "memory usage: 2.1+ KB\n"
     ]
    }
   ],
   "source": [
    "sat_17.info()\n"
   ]
  },
  {
   "cell_type": "markdown",
   "metadata": {},
   "source": [
    "#### Rename Columns"
   ]
  },
  {
   "cell_type": "code",
   "execution_count": 57,
   "metadata": {
    "tags": []
   },
   "outputs": [],
   "source": [
    "act_17 = act_17.rename(columns = {\"State\" : \"state\",\n",
    "                        \"Participation\": \"act_participation_17\", \n",
    "                        \"English\": \"act_english_17\", \n",
    "                         \"Math\": \"act_math_17\",\n",
    "                         \"Reading\": \"act_reading_17\",\n",
    "                         \"Science\": \"act_science_17\",\n",
    "                         \"Composite\":\"act_composite_17\"\n",
    "                                                    })"
   ]
  },
  {
   "cell_type": "code",
   "execution_count": 58,
   "metadata": {
    "tags": []
   },
   "outputs": [],
   "source": [
    "sat_17 = sat_17.rename(columns = {\"State\" : \"state\",\n",
    "                        \"Participation\": \"sat_participation_17\", \n",
    "                        \"Evidence-Based Reading and Writing\": \"sat_ebrw_17\", \n",
    "                         \"Math\": \"sat_math_17\",\n",
    "                         \"Math\": \"sat_math_17\",\n",
    "                         \"Total\": \"sat_total_17\",\n",
    "                                                    })\n"
   ]
  },
  {
   "cell_type": "markdown",
   "metadata": {},
   "source": [
    "#### Drop any unnecessary rows"
   ]
  },
  {
   "cell_type": "code",
   "execution_count": 59,
   "metadata": {
    "tags": []
   },
   "outputs": [],
   "source": [
    "#  National average is not relevant\n",
    "act_17 = act_17.drop(index = 0)"
   ]
  },
  {
   "cell_type": "markdown",
   "metadata": {},
   "source": [
    "#### Merge Dataframes\n",
    "\n",
    "Join the 2017 ACT and SAT DataFrames using the _state_ in each DataFrame as the key."
   ]
  },
  {
   "cell_type": "code",
   "execution_count": 60,
   "metadata": {
    "tags": []
   },
   "outputs": [],
   "source": [
    "combined_2017 = pd.merge(act_17, sat_17, left_on ='state', right_on='state')"
   ]
  },
  {
   "cell_type": "markdown",
   "metadata": {},
   "source": [
    "#### Save cleaned, merged dataframe\n"
   ]
  },
  {
   "cell_type": "code",
   "execution_count": 61,
   "metadata": {},
   "outputs": [],
   "source": [
    "combined_2017.to_csv('../data/combined_2017.csv',  index=False)"
   ]
  },
  {
   "cell_type": "markdown",
   "metadata": {},
   "source": [
    "## 2018 & 2019 Data Import and Cleaning"
   ]
  },
  {
   "cell_type": "code",
   "execution_count": 62,
   "metadata": {},
   "outputs": [],
   "source": [
    "# act_18['Participation'] = act_18['Participation'].str.rstrip('%').astype('float') \n",
    "act_19[' Participation'] = act_19[' Participation'].str.rstrip('%').astype('float') \n",
    "\n",
    "sat_18['Participation'] = sat_18['Participation'].str.rstrip('%').astype('float') \n",
    "sat_19['Participation'] = sat_19['Participation'].str.rstrip('%').astype('float')\n"
   ]
  },
  {
   "cell_type": "code",
   "execution_count": 63,
   "metadata": {
    "tags": []
   },
   "outputs": [],
   "source": [
    "act_18 = act_18.rename(columns = {\"State\" : \"state\",\n",
    "                        \"Participation\": \"act_participation_18\", \n",
    "                         \"Composite\":\"act_composite_18\"\n",
    "                                                    })\n"
   ]
  },
  {
   "cell_type": "code",
   "execution_count": 64,
   "metadata": {},
   "outputs": [],
   "source": [
    "sat_18 = sat_18.rename(columns = {\"State\" : \"state\",\n",
    "                        \"Participation\": \"sat_participation_18\", \n",
    "                        \" Evidence-Based Reading and Writing\": \"sat_ebrw_18\", \n",
    "                         \" Math\": \"sat_math_18\",\n",
    "                         \" Total\": \"sat_total_18\",\n",
    "                                                    })\n"
   ]
  },
  {
   "cell_type": "code",
   "execution_count": 65,
   "metadata": {},
   "outputs": [],
   "source": [
    "act_19 = act_19.rename(columns = {\"State\" : \"state\",\n",
    "                        \" Participation\": \"act_participation_19\", \n",
    "                         \"Composite\":\"act_composite_19\"\n",
    "                                                    })\n",
    "\n"
   ]
  },
  {
   "cell_type": "code",
   "execution_count": 66,
   "metadata": {},
   "outputs": [],
   "source": [
    "sat_19 = sat_19.rename(columns = {\"State\" : \"state\",\n",
    "                        \"Participation\": \"sat_participation_19\", \n",
    "                        \" Evidence-Based Reading and Writing\": \"sat_ebrw_19\", \n",
    "                         \" Math\": \"sat_math_19\",\n",
    "                         \" Total\": \"sat_total_19\",\n",
    "                                                    })"
   ]
  },
  {
   "cell_type": "code",
   "execution_count": 67,
   "metadata": {},
   "outputs": [],
   "source": [
    "combined_2018 = pd.merge(act_18, sat_18, left_on='state', right_on='state')"
   ]
  },
  {
   "cell_type": "code",
   "execution_count": 68,
   "metadata": {},
   "outputs": [],
   "source": [
    "combined_2018.to_csv('../data/combined_2018.csv',  index=False)"
   ]
  },
  {
   "cell_type": "code",
   "execution_count": 69,
   "metadata": {},
   "outputs": [],
   "source": [
    "combined_2019 = pd.merge(act_19, sat_19, left_on='state', right_on='state')"
   ]
  },
  {
   "cell_type": "code",
   "execution_count": 70,
   "metadata": {},
   "outputs": [],
   "source": [
    "combined_2019.to_csv('../data/combined_2019.csv',  index=False)"
   ]
  },
  {
   "cell_type": "markdown",
   "metadata": {},
   "source": [
    "## Combine 2017, 2018, and 2019 data into a single dataframe"
   ]
  },
  {
   "cell_type": "code",
   "execution_count": 71,
   "metadata": {},
   "outputs": [],
   "source": [
    "combined_17_18 = pd.merge(combined_2017, combined_2018, left_on='state', right_on='state')"
   ]
  },
  {
   "cell_type": "code",
   "execution_count": 72,
   "metadata": {},
   "outputs": [],
   "source": [
    "final = pd.merge(combined_17_18, combined_2019, left_on='state', right_on='state')"
   ]
  },
  {
   "cell_type": "code",
   "execution_count": 73,
   "metadata": {},
   "outputs": [],
   "source": [
    "final.to_csv('../data/final.csv',  index=False)"
   ]
  },
  {
   "cell_type": "markdown",
   "metadata": {},
   "source": [
    "# Exploratory Data Analysis"
   ]
  },
  {
   "cell_type": "code",
   "execution_count": 74,
   "metadata": {},
   "outputs": [],
   "source": [
    "# final['sat_participation_17'] = final['sat_participation_17'].str.rstrip('%').astype('float') \n",
    "# final['act_participation_17'] = final['act_participation_17'].str.rstrip('%').astype('float') \n",
    "final['act_participation_18'] = final['act_participation_18'].str.rstrip('%').astype('float') "
   ]
  },
  {
   "cell_type": "markdown",
   "metadata": {},
   "source": [
    "## Visualize the data"
   ]
  },
  {
   "cell_type": "code",
   "execution_count": 75,
   "metadata": {},
   "outputs": [],
   "source": [
    "correlation_2019 = final[['sat_total_19','sat_participation_19','act_composite_19','act_participation_19']]\n",
    "# correlation_2019 = final['sat_total_19'], final['sat_participation_19'], final['act_composite_19'], final['act_participation_19']]"
   ]
  },
  {
   "cell_type": "code",
   "execution_count": 76,
   "metadata": {},
   "outputs": [
    {
     "data": {
      "image/png": "[encoded data removed]",
      "text/plain": [
       "<Figure size 432x288 with 2 Axes>"
      ]
     },
     "metadata": {},
     "output_type": "display_data"
    }
   ],
   "source": [
    "correlation_mat = correlation_2019.corr()\n",
    "plt.title(\"Correlation matrix of ACT and SAT participation \\n rates vs test scores\")\n",
    "\n",
    "sns.heatmap(correlation_mat, annot = True)\n",
    "\n",
    "plt.show()"
   ]
  },
  {
   "cell_type": "code",
   "execution_count": 77,
   "metadata": {},
   "outputs": [
    {
     "data": {
      "text/plain": [
       "-0.8698651745309242"
      ]
     },
     "execution_count": 77,
     "metadata": {},
     "output_type": "execute_result"
    }
   ],
   "source": [
    "participation_2019 = final['sat_total_19'].corr(final['sat_participation_19'])\n",
    "final['act_composite_19'].corr(final['act_participation_19'])"
   ]
  },
  {
   "cell_type": "code",
   "execution_count": 78,
   "metadata": {},
   "outputs": [
    {
     "data": {
      "text/plain": [
       "2.0"
      ]
     },
     "execution_count": 78,
     "metadata": {},
     "output_type": "execute_result"
    }
   ],
   "source": [
    "final['sat_participation_19'].min()"
   ]
  },
  {
   "cell_type": "code",
   "execution_count": 79,
   "metadata": {},
   "outputs": [
    {
     "data": {
      "text/html": [
       "<div>\n",
       "<style scoped>\n",
       "    .dataframe tbody tr th:only-of-type {\n",
       "        vertical-align: middle;\n",
       "    }\n",
       "\n",
       "    .dataframe tbody tr th {\n",
       "        vertical-align: top;\n",
       "    }\n",
       "\n",
       "    .dataframe thead th {\n",
       "        text-align: right;\n",
       "    }\n",
       "</style>\n",
       "<table border=\"1\" class=\"dataframe\">\n",
       "  <thead>\n",
       "    <tr style=\"text-align: right;\">\n",
       "      <th></th>\n",
       "      <th>state</th>\n",
       "      <th>act_participation_17</th>\n",
       "      <th>act_english_17</th>\n",
       "      <th>act_math_17</th>\n",
       "      <th>act_reading_17</th>\n",
       "      <th>act_science_17</th>\n",
       "      <th>act_composite_17</th>\n",
       "      <th>sat_participation_17</th>\n",
       "      <th>sat_ebrw_17</th>\n",
       "      <th>sat_math_17</th>\n",
       "      <th>...</th>\n",
       "      <th>sat_participation_18</th>\n",
       "      <th>sat_ebrw_18</th>\n",
       "      <th>sat_math_18</th>\n",
       "      <th>sat_total_18</th>\n",
       "      <th>act_participation_19</th>\n",
       "      <th>act_composite_19</th>\n",
       "      <th>sat_participation_19</th>\n",
       "      <th>sat_ebrw_19</th>\n",
       "      <th>sat_math_19</th>\n",
       "      <th>sat_total_19</th>\n",
       "    </tr>\n",
       "  </thead>\n",
       "  <tbody>\n",
       "    <tr>\n",
       "      <th>47</th>\n",
       "      <td>Washington</td>\n",
       "      <td>29.0</td>\n",
       "      <td>20.9</td>\n",
       "      <td>21.9</td>\n",
       "      <td>22.1</td>\n",
       "      <td>22.0</td>\n",
       "      <td>21.9</td>\n",
       "      <td>64.0</td>\n",
       "      <td>541</td>\n",
       "      <td>534</td>\n",
       "      <td>...</td>\n",
       "      <td>69.0</td>\n",
       "      <td>543</td>\n",
       "      <td>538</td>\n",
       "      <td>1081</td>\n",
       "      <td>24.0</td>\n",
       "      <td>22.1</td>\n",
       "      <td>70.0</td>\n",
       "      <td>539</td>\n",
       "      <td>535</td>\n",
       "      <td>1074</td>\n",
       "    </tr>\n",
       "  </tbody>\n",
       "</table>\n",
       "<p>1 rows × 23 columns</p>\n",
       "</div>"
      ],
      "text/plain": [
       "         state  act_participation_17  act_english_17  act_math_17  \\\n",
       "47  Washington                  29.0            20.9         21.9   \n",
       "\n",
       "    act_reading_17  act_science_17  act_composite_17  sat_participation_17  \\\n",
       "47            22.1            22.0              21.9                  64.0   \n",
       "\n",
       "    sat_ebrw_17  sat_math_17  ...  sat_participation_18  sat_ebrw_18  \\\n",
       "47          541          534  ...                  69.0          543   \n",
       "\n",
       "    sat_math_18  sat_total_18  act_participation_19  act_composite_19  \\\n",
       "47          538          1081                  24.0              22.1   \n",
       "\n",
       "    sat_participation_19  sat_ebrw_19  sat_math_19  sat_total_19  \n",
       "47                  70.0          539          535          1074  \n",
       "\n",
       "[1 rows x 23 columns]"
      ]
     },
     "execution_count": 79,
     "metadata": {},
     "output_type": "execute_result"
    }
   ],
   "source": [
    "final.loc[final['state'] == 'Washington']"
   ]
  },
  {
   "cell_type": "code",
   "execution_count": 80,
   "metadata": {},
   "outputs": [
    {
     "data": {
      "text/plain": [
       "58.15686274509804"
      ]
     },
     "execution_count": 80,
     "metadata": {},
     "output_type": "execute_result"
    }
   ],
   "source": [
    "final['act_participation_19'].mean()"
   ]
  },
  {
   "cell_type": "code",
   "execution_count": 81,
   "metadata": {},
   "outputs": [
    {
     "data": {
      "text/plain": [
       "49.15686274509804"
      ]
     },
     "execution_count": 81,
     "metadata": {},
     "output_type": "execute_result"
    }
   ],
   "source": [
    "final['sat_participation_19'].mean()"
   ]
  },
  {
   "cell_type": "markdown",
   "metadata": {},
   "source": [
    "#### Participation Rates"
   ]
  },
  {
   "cell_type": "code",
   "execution_count": 82,
   "metadata": {},
   "outputs": [
    {
     "data": {
      "image/png": "[encoded data removed]",
      "text/plain": [
       "<Figure size 432x288 with 1 Axes>"
      ]
     },
     "metadata": {},
     "output_type": "display_data"
    }
   ],
   "source": [
    "X = ['SAT participation','ACT participation']\n",
    "Washington = [68, 21]\n",
    "average = [58, 49]\n",
    "  \n",
    "X_axis = np.arange(len(X))\n",
    "  \n",
    "plt.bar(X_axis - 0.2, Washington, 0.4, label = 'Virginia')\n",
    "plt.bar(X_axis + 0.2, average, 0.4, label = 'National Average')\n",
    "  \n",
    "plt.xticks(X_axis, X)\n",
    "plt.xlabel(\"ACT or SAT\")\n",
    "plt.ylabel(\"Participation rates (%)\")\n",
    "plt.title(\"ACT and SAT participation rates of Virginia \\n compared to the National average\")\n",
    "plt.legend()\n",
    "plt.savefig('Virginia1.png')\n",
    "plt.show()"
   ]
  },
  {
   "cell_type": "code",
   "execution_count": 83,
   "metadata": {},
   "outputs": [
    {
     "data": {
      "text/html": [
       "<div>\n",
       "<style scoped>\n",
       "    .dataframe tbody tr th:only-of-type {\n",
       "        vertical-align: middle;\n",
       "    }\n",
       "\n",
       "    .dataframe tbody tr th {\n",
       "        vertical-align: top;\n",
       "    }\n",
       "\n",
       "    .dataframe thead th {\n",
       "        text-align: right;\n",
       "    }\n",
       "</style>\n",
       "<table border=\"1\" class=\"dataframe\">\n",
       "  <thead>\n",
       "    <tr style=\"text-align: right;\">\n",
       "      <th></th>\n",
       "      <th>state</th>\n",
       "      <th>act_participation_17</th>\n",
       "      <th>act_english_17</th>\n",
       "      <th>act_math_17</th>\n",
       "      <th>act_reading_17</th>\n",
       "      <th>act_science_17</th>\n",
       "      <th>act_composite_17</th>\n",
       "      <th>sat_participation_17</th>\n",
       "      <th>sat_ebrw_17</th>\n",
       "      <th>sat_math_17</th>\n",
       "      <th>...</th>\n",
       "      <th>sat_participation_18</th>\n",
       "      <th>sat_ebrw_18</th>\n",
       "      <th>sat_math_18</th>\n",
       "      <th>sat_total_18</th>\n",
       "      <th>act_participation_19</th>\n",
       "      <th>act_composite_19</th>\n",
       "      <th>sat_participation_19</th>\n",
       "      <th>sat_ebrw_19</th>\n",
       "      <th>sat_math_19</th>\n",
       "      <th>sat_total_19</th>\n",
       "    </tr>\n",
       "  </thead>\n",
       "  <tbody>\n",
       "    <tr>\n",
       "      <th>48</th>\n",
       "      <td>West Virginia</td>\n",
       "      <td>69.0</td>\n",
       "      <td>20.0</td>\n",
       "      <td>19.4</td>\n",
       "      <td>21.2</td>\n",
       "      <td>20.5</td>\n",
       "      <td>20.4</td>\n",
       "      <td>14.0</td>\n",
       "      <td>558</td>\n",
       "      <td>528</td>\n",
       "      <td>...</td>\n",
       "      <td>28.0</td>\n",
       "      <td>513</td>\n",
       "      <td>486</td>\n",
       "      <td>999</td>\n",
       "      <td>49.0</td>\n",
       "      <td>20.8</td>\n",
       "      <td>99.0</td>\n",
       "      <td>483</td>\n",
       "      <td>460</td>\n",
       "      <td>943</td>\n",
       "    </tr>\n",
       "    <tr>\n",
       "      <th>36</th>\n",
       "      <td>Oklahoma</td>\n",
       "      <td>100.0</td>\n",
       "      <td>18.5</td>\n",
       "      <td>18.8</td>\n",
       "      <td>20.1</td>\n",
       "      <td>19.6</td>\n",
       "      <td>19.4</td>\n",
       "      <td>7.0</td>\n",
       "      <td>530</td>\n",
       "      <td>517</td>\n",
       "      <td>...</td>\n",
       "      <td>8.0</td>\n",
       "      <td>541</td>\n",
       "      <td>521</td>\n",
       "      <td>1062</td>\n",
       "      <td>100.0</td>\n",
       "      <td>18.9</td>\n",
       "      <td>22.0</td>\n",
       "      <td>490</td>\n",
       "      <td>472</td>\n",
       "      <td>963</td>\n",
       "    </tr>\n",
       "    <tr>\n",
       "      <th>7</th>\n",
       "      <td>Delaware</td>\n",
       "      <td>18.0</td>\n",
       "      <td>24.1</td>\n",
       "      <td>23.4</td>\n",
       "      <td>24.8</td>\n",
       "      <td>23.6</td>\n",
       "      <td>24.1</td>\n",
       "      <td>100.0</td>\n",
       "      <td>503</td>\n",
       "      <td>492</td>\n",
       "      <td>...</td>\n",
       "      <td>100.0</td>\n",
       "      <td>505</td>\n",
       "      <td>492</td>\n",
       "      <td>998</td>\n",
       "      <td>13.0</td>\n",
       "      <td>24.1</td>\n",
       "      <td>100.0</td>\n",
       "      <td>499</td>\n",
       "      <td>486</td>\n",
       "      <td>985</td>\n",
       "    </tr>\n",
       "    <tr>\n",
       "      <th>11</th>\n",
       "      <td>Idaho</td>\n",
       "      <td>38.0</td>\n",
       "      <td>21.9</td>\n",
       "      <td>21.8</td>\n",
       "      <td>23.0</td>\n",
       "      <td>22.1</td>\n",
       "      <td>22.3</td>\n",
       "      <td>93.0</td>\n",
       "      <td>513</td>\n",
       "      <td>493</td>\n",
       "      <td>...</td>\n",
       "      <td>100.0</td>\n",
       "      <td>508</td>\n",
       "      <td>493</td>\n",
       "      <td>1001</td>\n",
       "      <td>31.0</td>\n",
       "      <td>22.5</td>\n",
       "      <td>100.0</td>\n",
       "      <td>505</td>\n",
       "      <td>488</td>\n",
       "      <td>993</td>\n",
       "    </tr>\n",
       "    <tr>\n",
       "      <th>39</th>\n",
       "      <td>Rhode Island</td>\n",
       "      <td>21.0</td>\n",
       "      <td>24.0</td>\n",
       "      <td>23.3</td>\n",
       "      <td>24.7</td>\n",
       "      <td>23.4</td>\n",
       "      <td>24.0</td>\n",
       "      <td>71.0</td>\n",
       "      <td>539</td>\n",
       "      <td>524</td>\n",
       "      <td>...</td>\n",
       "      <td>97.0</td>\n",
       "      <td>513</td>\n",
       "      <td>505</td>\n",
       "      <td>1018</td>\n",
       "      <td>12.0</td>\n",
       "      <td>24.7</td>\n",
       "      <td>100.0</td>\n",
       "      <td>503</td>\n",
       "      <td>492</td>\n",
       "      <td>995</td>\n",
       "    </tr>\n",
       "  </tbody>\n",
       "</table>\n",
       "<p>5 rows × 23 columns</p>\n",
       "</div>"
      ],
      "text/plain": [
       "            state  act_participation_17  act_english_17  act_math_17  \\\n",
       "48  West Virginia                  69.0            20.0         19.4   \n",
       "36       Oklahoma                 100.0            18.5         18.8   \n",
       "7        Delaware                  18.0            24.1         23.4   \n",
       "11          Idaho                  38.0            21.9         21.8   \n",
       "39   Rhode Island                  21.0            24.0         23.3   \n",
       "\n",
       "    act_reading_17  act_science_17  act_composite_17  sat_participation_17  \\\n",
       "48            21.2            20.5              20.4                  14.0   \n",
       "36            20.1            19.6              19.4                   7.0   \n",
       "7             24.8            23.6              24.1                 100.0   \n",
       "11            23.0            22.1              22.3                  93.0   \n",
       "39            24.7            23.4              24.0                  71.0   \n",
       "\n",
       "    sat_ebrw_17  sat_math_17  ...  sat_participation_18  sat_ebrw_18  \\\n",
       "48          558          528  ...                  28.0          513   \n",
       "36          530          517  ...                   8.0          541   \n",
       "7           503          492  ...                 100.0          505   \n",
       "11          513          493  ...                 100.0          508   \n",
       "39          539          524  ...                  97.0          513   \n",
       "\n",
       "    sat_math_18  sat_total_18  act_participation_19  act_composite_19  \\\n",
       "48          486           999                  49.0              20.8   \n",
       "36          521          1062                 100.0              18.9   \n",
       "7           492           998                  13.0              24.1   \n",
       "11          493          1001                  31.0              22.5   \n",
       "39          505          1018                  12.0              24.7   \n",
       "\n",
       "    sat_participation_19  sat_ebrw_19  sat_math_19  sat_total_19  \n",
       "48                  99.0          483          460           943  \n",
       "36                  22.0          490          472           963  \n",
       "7                  100.0          499          486           985  \n",
       "11                 100.0          505          488           993  \n",
       "39                 100.0          503          492           995  \n",
       "\n",
       "[5 rows x 23 columns]"
      ]
     },
     "execution_count": 83,
     "metadata": {},
     "output_type": "execute_result"
    }
   ],
   "source": [
    "final.nsmallest(5, ['sat_total_19'])"
   ]
  },
  {
   "cell_type": "markdown",
   "metadata": {},
   "source": [
    "Suggests you take the test if you know you are going to do well "
   ]
  },
  {
   "cell_type": "markdown",
   "metadata": {},
   "source": [
    "#### Plot and interpret scatter plots for import columns\n"
   ]
  },
  {
   "cell_type": "code",
   "execution_count": 84,
   "metadata": {},
   "outputs": [],
   "source": [
    "import seaborn as sns"
   ]
  },
  {
   "cell_type": "code",
   "execution_count": 85,
   "metadata": {},
   "outputs": [],
   "source": [
    "seaborn_test = final[['sat_participation_19','sat_total_19']]"
   ]
  },
  {
   "cell_type": "code",
   "execution_count": 86,
   "metadata": {},
   "outputs": [
    {
     "data": {
      "image/png": "[encoded data removed]",
      "text/plain": [
       "<Figure size 432x288 with 1 Axes>"
      ]
     },
     "metadata": {},
     "output_type": "display_data"
    }
   ],
   "source": [
    "sns.set(style='whitegrid')\n",
    "plt.xlabel(\"Participation rate\")\n",
    "plt.ylabel(\"%Average SAT score\")\n",
    "plt.title (\"Scatterplot of Participation rates vs SAT scores \")\n",
    "sns.scatterplot(x =final['sat_participation_19'], y = final['sat_total_19'],data=seaborn_test)\n",
    "plt.savefig('ScatterACT.png')"
   ]
  },
  {
   "cell_type": "code",
   "execution_count": 87,
   "metadata": {},
   "outputs": [
    {
     "data": {
      "text/plain": [
       "-0.4258168852926788"
      ]
     },
     "execution_count": 87,
     "metadata": {},
     "output_type": "execute_result"
    }
   ],
   "source": [
    "final['sat_total_19'].corr(final['act_composite_19'])"
   ]
  },
  {
   "cell_type": "markdown",
   "metadata": {},
   "source": [
    "#### Plot and interpret boxplots for important columns\n"
   ]
  },
  {
   "cell_type": "markdown",
   "metadata": {},
   "source": [
    "## Outside Research"
   ]
  },
  {
   "cell_type": "markdown",
   "metadata": {},
   "source": [
    "### Why are participation rates low \n",
    "\n",
    "#### 1) Cost of ACT and SAT \n",
    "\n",
    "ACT costs $67 dollars \\\n",
    "SAT cost $65 dollars \\\n",
    "Average  tutor is $45  to $100 per hour \\\n",
    "Strong postive correlation between family income and test results \\\n",
    "\n",
    "#### 2) Unprepared Students\n",
    "\n",
    "\n"
   ]
  },
  {
   "cell_type": "markdown",
   "metadata": {},
   "source": [
    "### Conclusions and Recommendations"
   ]
  },
  {
   "cell_type": "markdown",
   "metadata": {},
   "source": [
    "Based on your exploration of the data, what are your 1 or 2 key recommendations for the College Board?\n",
    "\n",
    "Ensure that your recommendations make sense. These datasets have some limitations - think about granularity, aggregation, the relationships between populations size and rates. Consider the actual populations these data are drawn from. It is okay if your conclusions are tentative. You do not want to make unsupported jumps in logic."
   ]
  },
  {
   "cell_type": "markdown",
   "metadata": {},
   "source": [
    "#### 1) Make the SAT Mandatory \n",
    "\n",
    "#### 2) Make the SAT more affordable\n",
    "\n",
    "#### 3) Make all students ready for the SAT "
   ]
  },
  {
   "cell_type": "code",
   "execution_count": null,
   "metadata": {},
   "outputs": [],
   "source": []
  }
 ],
 "metadata": {
  "anaconda-cloud": {},
  "kernelspec": {
   "display_name": "Python 3",
   "language": "python",
   "name": "python3"
  },
  "language_info": {
   "codemirror_mode": {
    "name": "ipython",
    "version": 3
   },
   "file_extension": ".py",
   "mimetype": "text/x-python",
   "name": "python",
   "nbconvert_exporter": "python",
   "pygments_lexer": "ipython3",
   "version": "3.7.6"
  }
 },
 "nbformat": 4,
 "nbformat_minor": 4
}
